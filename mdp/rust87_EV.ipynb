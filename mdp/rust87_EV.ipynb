{
 "metadata": {
  "name": "",
  "signature": "sha256:c3393f7faba3d6f347dac857b4c8d63f39678bfe568fdb2d08e0cfa6ac1d8c7f"
 },
 "nbformat": 3,
 "nbformat_minor": 0,
 "worksheets": [
  {
   "cells": [
    {
     "cell_type": "heading",
     "level": 1,
     "metadata": {},
     "source": [
      "Rust (1987)"
     ]
    },
    {
     "cell_type": "markdown",
     "metadata": {},
     "source": [
      "Just to replicate Figure 3, p.1025,\n",
      "*given the estimated parameter values*."
     ]
    },
    {
     "cell_type": "code",
     "collapsed": false,
     "input": [
      "%matplotlib inline"
     ],
     "language": "python",
     "metadata": {},
     "outputs": [],
     "prompt_number": 1
    },
    {
     "cell_type": "code",
     "collapsed": false,
     "input": [
      "from __future__ import division\n",
      "import numpy as np\n",
      "import matplotlib.pyplot as plt"
     ],
     "language": "python",
     "metadata": {},
     "outputs": [],
     "prompt_number": 2
    },
    {
     "cell_type": "code",
     "collapsed": false,
     "input": [
      "def operator_iteration(T, w_0, tol, max_iter):\n",
      "    w = w_0\n",
      "    for i in range(max_iter):\n",
      "        new_w = T(w)\n",
      "        if np.abs(new_w - w).max() < tol:\n",
      "            w = new_w\n",
      "            break\n",
      "        w = new_w\n",
      "\n",
      "    num_iter = i + 1\n",
      "\n",
      "    return w, num_iter"
     ],
     "language": "python",
     "metadata": {},
     "outputs": [],
     "prompt_number": 3
    },
    {
     "cell_type": "code",
     "collapsed": false,
     "input": [
      "class Zurcher(object):\n",
      "    def __init__(self, num_states, beta,\n",
      "                 c=lambda x, theta_1: 0.001 * theta_1[0] * x):\n",
      "        self.num_states = num_states  # 0, 5000, ..., 5000*(num_states-1)\n",
      "        self.num_actions = 2  # 0: keep, 1: replace\n",
      "        self.beta = beta\n",
      "        self.c = c\n",
      "        \n",
      "    def set_params(self, RC, theta_1, theta_3):\n",
      "        self.RC, self.theta_1, self.theta_3 = RC, theta_1, theta_3\n",
      "        \n",
      "        # Flow utility\n",
      "        self.u = np.empty((self.num_states, self.num_actions))\n",
      "        self.u[:, 0] = -self.c(np.arange(self.num_states)+1, self.theta_1)\n",
      "        self.u[:, 1] = -self.RC - self.c(0, self.theta_1)\n",
      "        \n",
      "        # Transition probabilities\n",
      "        n = self.num_states\n",
      "        supp_size = len(theta_3)\n",
      "        p = np.zeros((n, n))\n",
      "        for i in range(n-supp_size+1):\n",
      "            p[i, i:i+supp_size] = theta_3\n",
      "        for i in range(n-supp_size+1, n):\n",
      "            p[i, i:] = theta_3[:n-i]/theta_3[:n-i].sum()\n",
      "        self.p = p\n",
      "        \n",
      "    def continuation_values(self, ev):\n",
      "        \"\"\"\n",
      "        u + beta * ev\n",
      "        \n",
      "        \"\"\"\n",
      "        v0 = self.u[:, 0] + self.beta * ev\n",
      "        v1 = self.u[0, 1] + self.beta * ev[0]\n",
      "        return v0, v1\n",
      "        \n",
      "    def T(self, ev):\n",
      "        v0, v1 = self.continuation_values(ev)\n",
      "        return self.p.dot(np.logaddexp(v0, v1))\n",
      "    \n",
      "    def replacement_prob(self, ev):\n",
      "        v0, v1 = self.continuation_values(ev)\n",
      "        return 1/(1 + np.exp(v0-v1))\n",
      "    \n",
      "    def compute_EV(self, w_0=None, tol=1e-5, max_iter=10**5):\n",
      "        if w_0 is None:\n",
      "            w_0 = np.zeros(self.num_states)\n",
      "            \n",
      "        EV, num_iter = operator_iteration(self.T, w_0=w_0, tol=tol, max_iter=max_iter)\n",
      "        P_replace = self.replacement_prob(EV)\n",
      "        \n",
      "        return EV, num_iter, P_replace"
     ],
     "language": "python",
     "metadata": {},
     "outputs": [],
     "prompt_number": 4
    },
    {
     "cell_type": "markdown",
     "metadata": {},
     "source": [
      "Consider Model 11."
     ]
    },
    {
     "cell_type": "code",
     "collapsed": false,
     "input": [
      "num_states = 90"
     ],
     "language": "python",
     "metadata": {},
     "outputs": [],
     "prompt_number": 5
    },
    {
     "cell_type": "markdown",
     "metadata": {},
     "source": [
      "Estimated parameter values for Group 4, Table IX, p.1021"
     ]
    },
    {
     "cell_type": "code",
     "collapsed": false,
     "input": [
      "# Transition probabilities\n",
      "supp_size = 3\n",
      "theta_3 = np.empty(supp_size)\n",
      "theta_3[:-1] = .3919, .5953\n",
      "theta_3[-1] = 1 - theta_3[:-1].sum()"
     ],
     "language": "python",
     "metadata": {},
     "outputs": [],
     "prompt_number": 6
    },
    {
     "cell_type": "code",
     "collapsed": false,
     "input": [
      "betas = np.empty(2)\n",
      "RCs = np.empty(2)\n",
      "theta_1s = np.empty((2, 1))"
     ],
     "language": "python",
     "metadata": {},
     "outputs": [],
     "prompt_number": 7
    },
    {
     "cell_type": "code",
     "collapsed": false,
     "input": [
      "# Estimated parameter values for beta = 0\n",
      "betas[0] = 0\n",
      "\n",
      "# Replacement cost\n",
      "RCs[0] = 7.6358\n",
      "        \n",
      "# Cost function parameter\n",
      "theta_1s[0, 0] = 71.5133"
     ],
     "language": "python",
     "metadata": {},
     "outputs": [],
     "prompt_number": 8
    },
    {
     "cell_type": "code",
     "collapsed": false,
     "input": [
      "# Estimated parameter values for beta = .9999\n",
      "betas[1] = .9999\n",
      "\n",
      "# Replacement cost\n",
      "RCs[1] = 10.0750\n",
      "        \n",
      "# Cost function parameter\n",
      "theta_1s[1, 0] = 2.2930"
     ],
     "language": "python",
     "metadata": {},
     "outputs": [],
     "prompt_number": 9
    },
    {
     "cell_type": "markdown",
     "metadata": {},
     "source": [
      "Create `Zurcher` instances, one for each of $\\beta = 0$ and $\\beta = .9999$:"
     ]
    },
    {
     "cell_type": "code",
     "collapsed": false,
     "input": [
      "zurchers = [Zurcher(num_states=num_states, beta=betas[i]) for i in range(2)]"
     ],
     "language": "python",
     "metadata": {},
     "outputs": [],
     "prompt_number": 10
    },
    {
     "cell_type": "code",
     "collapsed": false,
     "input": [
      "for i, zurcher in enumerate(zurchers):\n",
      "    zurcher.set_params(RC=RCs[i], theta_1=theta_1s[i], theta_3=theta_3)"
     ],
     "language": "python",
     "metadata": {},
     "outputs": [],
     "prompt_number": 11
    },
    {
     "cell_type": "markdown",
     "metadata": {},
     "source": [
      "Solve for $\\mathit{EV}$:"
     ]
    },
    {
     "cell_type": "code",
     "collapsed": false,
     "input": [
      "EVs = np.empty((2, num_states))\n",
      "num_iters = np.empty(2, dtype=int)\n",
      "P_replaces = np.empty((2, num_states))"
     ],
     "language": "python",
     "metadata": {},
     "outputs": [],
     "prompt_number": 12
    },
    {
     "cell_type": "code",
     "collapsed": false,
     "input": [
      "for i, zurcher in enumerate(zurchers):\n",
      "    EVs[i], num_iters[i], P_replaces[i] = zurcher.compute_EV()"
     ],
     "language": "python",
     "metadata": {},
     "outputs": [],
     "prompt_number": 13
    },
    {
     "cell_type": "code",
     "collapsed": false,
     "input": [
      "num_iters"
     ],
     "language": "python",
     "metadata": {},
     "outputs": [
      {
       "metadata": {},
       "output_type": "pyout",
       "prompt_number": 14,
       "text": [
        "array([    2, 94775])"
       ]
      }
     ],
     "prompt_number": 14
    },
    {
     "cell_type": "code",
     "collapsed": false,
     "input": [
      "EVs"
     ],
     "language": "python",
     "metadata": {},
     "outputs": [
      {
       "metadata": {},
       "output_type": "pyout",
       "prompt_number": 15,
       "text": [
        "array([[ -1.15373499e-01,  -1.86846601e-01,  -2.58316724e-01,\n",
        "         -3.29783649e-01,  -4.01247138e-01,  -4.72706937e-01,\n",
        "         -5.44162774e-01,  -6.15614354e-01,  -6.87061363e-01,\n",
        "         -7.58503462e-01,  -8.29940289e-01,  -9.01371454e-01,\n",
        "         -9.72796537e-01,  -1.04421509e+00,  -1.11562663e+00,\n",
        "         -1.18703063e+00,  -1.25842655e+00,  -1.32981378e+00,\n",
        "         -1.40119168e+00,  -1.47255957e+00,  -1.54391670e+00,\n",
        "         -1.61526227e+00,  -1.68659545e+00,  -1.75791531e+00,\n",
        "         -1.82922087e+00,  -1.90051108e+00,  -1.97178481e+00,\n",
        "         -2.04304084e+00,  -2.11427787e+00,  -2.18549451e+00,\n",
        "         -2.25668925e+00,  -2.32786049e+00,  -2.39900650e+00,\n",
        "         -2.47012544e+00,  -2.54121531e+00,  -2.61227399e+00,\n",
        "         -2.68329921e+00,  -2.75428850e+00,  -2.82523926e+00,\n",
        "         -2.89614866e+00,  -2.96701370e+00,  -3.03783116e+00,\n",
        "         -3.10859757e+00,  -3.17930923e+00,  -3.24996218e+00,\n",
        "         -3.32055218e+00,  -3.39107468e+00,  -3.46152483e+00,\n",
        "         -3.53189741e+00,  -3.60218689e+00,  -3.67238731e+00,\n",
        "         -3.74249232e+00,  -3.81249514e+00,  -3.88238852e+00,\n",
        "         -3.95216474e+00,  -4.02181554e+00,  -4.09133213e+00,\n",
        "         -4.16070514e+00,  -4.22992459e+00,  -4.29897983e+00,\n",
        "         -4.36785958e+00,  -4.43655181e+00,  -4.50504376e+00,\n",
        "         -4.57332187e+00,  -4.64137179e+00,  -4.70917829e+00,\n",
        "         -4.77672526e+00,  -4.84399566e+00,  -4.91097152e+00,\n",
        "         -4.97763386e+00,  -5.04396269e+00,  -5.10993701e+00,\n",
        "         -5.17553471e+00,  -5.24073267e+00,  -5.30550664e+00,\n",
        "         -5.36983130e+00,  -5.43368024e+00,  -5.49702598e+00,\n",
        "         -5.55984000e+00,  -5.62209274e+00,  -5.68375368e+00,\n",
        "         -5.74479137e+00,  -5.80517350e+00,  -5.86486701e+00,\n",
        "         -5.92383815e+00,  -5.98205261e+00,  -6.03947567e+00,\n",
        "         -6.09607231e+00,  -6.15082833e+00,  -6.17282262e+00],\n",
        "       [ -1.30118945e+03,  -1.30139322e+03,  -1.30159335e+03,\n",
        "         -1.30178983e+03,  -1.30198268e+03,  -1.30217190e+03,\n",
        "         -1.30235748e+03,  -1.30253945e+03,  -1.30271780e+03,\n",
        "         -1.30289255e+03,  -1.30306370e+03,  -1.30323126e+03,\n",
        "         -1.30339525e+03,  -1.30355568e+03,  -1.30371256e+03,\n",
        "         -1.30386591e+03,  -1.30401576e+03,  -1.30416211e+03,\n",
        "         -1.30430501e+03,  -1.30444446e+03,  -1.30458050e+03,\n",
        "         -1.30471317e+03,  -1.30484249e+03,  -1.30496850e+03,\n",
        "         -1.30509123e+03,  -1.30521074e+03,  -1.30532705e+03,\n",
        "         -1.30544023e+03,  -1.30555031e+03,  -1.30565734e+03,\n",
        "         -1.30576139e+03,  -1.30586250e+03,  -1.30596074e+03,\n",
        "         -1.30605615e+03,  -1.30614880e+03,  -1.30623876e+03,\n",
        "         -1.30632607e+03,  -1.30641082e+03,  -1.30649306e+03,\n",
        "         -1.30657285e+03,  -1.30665027e+03,  -1.30672538e+03,\n",
        "         -1.30679823e+03,  -1.30686891e+03,  -1.30693746e+03,\n",
        "         -1.30700396e+03,  -1.30706847e+03,  -1.30713106e+03,\n",
        "         -1.30719177e+03,  -1.30725067e+03,  -1.30730782e+03,\n",
        "         -1.30736328e+03,  -1.30741710e+03,  -1.30746934e+03,\n",
        "         -1.30752004e+03,  -1.30756926e+03,  -1.30761704e+03,\n",
        "         -1.30766343e+03,  -1.30770848e+03,  -1.30775222e+03,\n",
        "         -1.30779470e+03,  -1.30783596e+03,  -1.30787602e+03,\n",
        "         -1.30791491e+03,  -1.30795268e+03,  -1.30798935e+03,\n",
        "         -1.30802493e+03,  -1.30805945e+03,  -1.30809293e+03,\n",
        "         -1.30812538e+03,  -1.30815681e+03,  -1.30818723e+03,\n",
        "         -1.30821662e+03,  -1.30824499e+03,  -1.30827232e+03,\n",
        "         -1.30829859e+03,  -1.30832378e+03,  -1.30834783e+03,\n",
        "         -1.30837072e+03,  -1.30839236e+03,  -1.30841269e+03,\n",
        "         -1.30843161e+03,  -1.30844902e+03,  -1.30846476e+03,\n",
        "         -1.30847869e+03,  -1.30849062e+03,  -1.30850032e+03,\n",
        "         -1.30850753e+03,  -1.30851196e+03,  -1.30851330e+03]])"
       ]
      }
     ],
     "prompt_number": 15
    },
    {
     "cell_type": "code",
     "collapsed": false,
     "input": [
      "P_replaces"
     ],
     "language": "python",
     "metadata": {},
     "outputs": [
      {
       "metadata": {},
       "output_type": "pyout",
       "prompt_number": 16,
       "text": [
        "array([[  5.18378331e-04,   5.56785584e-04,   5.98036771e-04,\n",
        "          6.42342217e-04,   6.89927757e-04,   7.41035882e-04,\n",
        "          7.95926953e-04,   8.54880516e-04,   9.18196702e-04,\n",
        "          9.86197732e-04,   1.05922953e-03,   1.13766347e-03,\n",
        "          1.22189818e-03,   1.31236159e-03,   1.40951302e-03,\n",
        "          1.51384548e-03,   1.62588806e-03,   1.74620864e-03,\n",
        "          1.87541656e-03,   2.01416573e-03,   2.16315776e-03,\n",
        "          2.32314537e-03,   2.49493612e-03,   2.67939624e-03,\n",
        "          2.87745487e-03,   3.09010845e-03,   3.31842554e-03,\n",
        "          3.56355187e-03,   3.82671573e-03,   4.10923376e-03,\n",
        "          4.41251710e-03,   4.73807787e-03,   5.08753615e-03,\n",
        "          5.46262737e-03,   5.86521008e-03,   6.29727433e-03,\n",
        "          6.76095039e-03,   7.25851810e-03,   7.79241670e-03,\n",
        "          8.36525517e-03,   8.97982320e-03,   9.63910266e-03,\n",
        "          1.03462797e-02,   1.11047573e-02,   1.19181687e-02,\n",
        "          1.27903910e-02,   1.37255595e-02,   1.47280827e-02,\n",
        "          1.58026576e-02,   1.69542853e-02,   1.81882876e-02,\n",
        "          1.95103231e-02,   2.09264041e-02,   2.24429131e-02,\n",
        "          2.40666202e-02,   2.58046988e-02,   2.76647423e-02,\n",
        "          2.96547794e-02,   3.17832887e-02,   3.40592119e-02,\n",
        "          3.64919660e-02,   3.90914526e-02,   4.18680659e-02,\n",
        "          4.48326968e-02,   4.79967339e-02,   5.13720611e-02,\n",
        "          5.49710489e-02,   5.88065419e-02,   6.28918390e-02,\n",
        "          6.72406664e-02,   7.18671436e-02,   7.67857397e-02,\n",
        "          8.20112201e-02,   8.75585825e-02,   9.34429816e-02,\n",
        "          9.96796411e-02,   1.06283753e-01,   1.13270361e-01,\n",
        "          1.20654234e-01,   1.28449721e-01,   1.36670595e-01,\n",
        "          1.45329877e-01,   1.54439655e-01,   1.64010884e-01,\n",
        "          1.74053181e-01,   1.84574603e-01,   1.95581435e-01,\n",
        "          2.07077954e-01,   2.19066220e-01,   2.31545848e-01],\n",
        "       [  4.22143978e-05,   5.18726982e-05,   6.35088435e-05,\n",
        "          7.74725441e-05,   9.41631651e-05,   1.14034310e-04,\n",
        "          1.37598361e-04,   1.65430860e-04,   1.98174636e-04,\n",
        "          2.36543519e-04,   2.81325538e-04,   3.33385420e-04,\n",
        "          3.93666283e-04,   4.63190345e-04,   5.43058533e-04,\n",
        "          6.34448873e-04,   7.38613544e-04,   8.56874531e-04,\n",
        "          9.90617839e-04,   1.14128625e-03,   1.31037064e-03,\n",
        "          1.49940001e-03,   1.70993020e-03,   1.94353159e-03,\n",
        "          2.20177594e-03,   2.48622251e-03,   2.79840388e-03,\n",
        "          3.13981158e-03,   3.51188193e-03,   3.91598230e-03,\n",
        "          4.35339812e-03,   4.82532083e-03,   5.33283703e-03,\n",
        "          5.87691907e-03,   6.45841705e-03,   7.07805259e-03,\n",
        "          7.73641423e-03,   8.43395448e-03,   9.17098868e-03,\n",
        "          9.94769532e-03,   1.07641179e-02,   1.16201683e-02,\n",
        "          1.25156310e-02,   1.34501686e-02,   1.44233281e-02,\n",
        "          1.54345477e-02,   1.64831645e-02,   1.75684212e-02,\n",
        "          1.86894747e-02,   1.98454029e-02,   2.10352121e-02,\n",
        "          2.22578441e-02,   2.35121817e-02,   2.47970547e-02,\n",
        "          2.61112443e-02,   2.74534869e-02,   2.88224767e-02,\n",
        "          3.02168672e-02,   3.16352710e-02,   3.30762590e-02,\n",
        "          3.45383573e-02,   3.60200424e-02,   3.75197349e-02,\n",
        "          3.90357909e-02,   4.05664904e-02,   4.21100235e-02,\n",
        "          4.36644735e-02,   4.52277959e-02,   4.67977936e-02,\n",
        "          4.83720870e-02,   4.99480788e-02,   5.15229122e-02,\n",
        "          5.30934219e-02,   5.46560758e-02,   5.62069079e-02,\n",
        "          5.77414392e-02,   5.92545865e-02,   6.07405563e-02,\n",
        "          6.21927240e-02,   6.36034965e-02,   6.49641566e-02,\n",
        "          6.62646925e-02,   6.74936105e-02,   6.86377380e-02,\n",
        "          6.96820227e-02,   7.06093391e-02,   7.14003215e-02,\n",
        "          7.20332483e-02,   7.24839630e-02,   7.27283103e-02]])"
       ]
      }
     ],
     "prompt_number": 16
    },
    {
     "cell_type": "code",
     "collapsed": false,
     "input": [
      "# V for beta = .9999\n",
      "V, _ = zurchers[1].continuation_values(EVs[1])"
     ],
     "language": "python",
     "metadata": {},
     "outputs": [],
     "prompt_number": 17
    },
    {
     "cell_type": "code",
     "collapsed": false,
     "input": [
      "V"
     ],
     "language": "python",
     "metadata": {},
     "outputs": [
      {
       "metadata": {},
       "output_type": "pyout",
       "prompt_number": 18,
       "text": [
        "array([-1301.06162659, -1301.26766751, -1301.47006571, -1301.66882411,\n",
        "       -1301.86394628, -1302.05543645, -1302.24329965, -1302.42754182,\n",
        "       -1302.60816987, -1302.78519181, -1302.95861689, -1303.12845571,\n",
        "       -1303.29472033, -1303.45742441, -1303.61658335, -1303.77221439,\n",
        "       -1303.92433676, -1304.07297178, -1304.21814297, -1304.35987616,\n",
        "       -1304.49819957, -1304.63314387, -1304.76474226, -1304.89303046,\n",
        "       -1305.0180468 , -1305.13983213, -1305.25842985, -1305.37388586,\n",
        "       -1305.48624843, -1305.59556819, -1305.70189793, -1305.80529254,\n",
        "       -1305.90580879, -1306.00350523, -1306.09844192, -1306.19068035,\n",
        "       -1306.28028311, -1306.36731379, -1306.45183671, -1306.53391671,\n",
        "       -1306.61361897, -1306.69100876, -1306.76615127, -1306.83911139,\n",
        "       -1306.90995357, -1306.97874157, -1307.04553836, -1307.11040593,\n",
        "       -1307.17340516, -1307.23459567, -1307.29403572, -1307.35178209,\n",
        "       -1307.40788997, -1307.46241288, -1307.51540254, -1307.56690888,\n",
        "       -1307.61697984, -1307.6656614 , -1307.71299746, -1307.75902974,\n",
        "       -1307.80379773, -1307.8473386 , -1307.88968709, -1307.93087537,\n",
        "       -1307.97093294, -1308.00988647, -1308.04775958, -1308.08457266,\n",
        "       -1308.12034259, -1308.15508241, -1308.188801  , -1308.22150257,\n",
        "       -1308.25318619, -1308.28384517, -1308.3134663 , -1308.34202897,\n",
        "       -1308.36950422, -1308.39585347, -1308.42102714, -1308.44496303,\n",
        "       -1308.46758441, -1308.4887978 , -1308.50849052, -1308.52652778,\n",
        "       -1308.54274951, -1308.55696684, -1308.56895823, -1308.57846548,\n",
        "       -1308.58518884, -1308.5888177 ])"
       ]
      }
     ],
     "prompt_number": 18
    },
    {
     "cell_type": "markdown",
     "metadata": {},
     "source": [
      "Plot $c(x) - \\beta \\mathit{EV}(x)$ and $- \\beta \\mathit{EV}(x)$ for $\\beta = .9999$\n",
      "(TODO: find out how to \"normalize\" the values):"
     ]
    },
    {
     "cell_type": "code",
     "collapsed": false,
     "input": [
      "fig, ax = plt.subplots(figsize=(8,5))\n",
      "ax.plot(-zurchers[1].beta * EVs[1], label=r'$c - \\beta \\mathit{EV}$')\n",
      "ax.plot(-V, label=r'$- \\beta \\mathit{EV}$')\n",
      "#for zurcher in zurchers:\n",
      "#    ax.plot(-zurcher.u[:, 0], label=r'$c$, $\\beta = {0}$'.format(zurcher.beta))\n",
      "ax.set_title('Estimated Value Functions')\n",
      "ax.set_xlabel('State')\n",
      "ax.set_ylabel(r'Non-normalized value $\\times\\ (-1)$')\n",
      "plt.legend(loc=2)\n",
      "plt.show()"
     ],
     "language": "python",
     "metadata": {},
     "outputs": [
      {
       "metadata": {},
       "output_type": "display_data",
       "png": "[encoded data removed]",
       "text": [
        "<matplotlib.figure.Figure at 0x108bd1310>"
       ]
      }
     ],
     "prompt_number": 19
    },
    {
     "cell_type": "markdown",
     "metadata": {},
     "source": [
      "Plot $P(1|x)$ for $\\beta = 0$ and $\\beta = .9999$:"
     ]
    },
    {
     "cell_type": "code",
     "collapsed": false,
     "input": [
      "fig, ax = plt.subplots(figsize=(8,5))\n",
      "for i in range(2):\n",
      "    ax.plot(P_replaces[i], label=r'$\\beta = {0}$'.format(betas[i]))\n",
      "ax.set_ylim(0, 0.16)\n",
      "ax.set_yticks(np.linspace(0, 0.16, 17, endpoint=True))\n",
      "ax.set_title('Estimated Hazard Functions')\n",
      "ax.set_xlabel('State')\n",
      "ax.set_ylabel('Probability of engine replacement')\n",
      "plt.legend(loc=2)\n",
      "plt.show()"
     ],
     "language": "python",
     "metadata": {},
     "outputs": [
      {
       "metadata": {},
       "output_type": "display_data",
       "png": "[encoded data removed]",
       "text": [
        "<matplotlib.figure.Figure at 0x108bd1210>"
       ]
      }
     ],
     "prompt_number": 20
    },
    {
     "cell_type": "markdown",
     "metadata": {},
     "source": [
      "Timing the code (for $\\beta = .9999$):"
     ]
    },
    {
     "cell_type": "code",
     "collapsed": false,
     "input": [
      "%timeit zurchers[1].compute_EV()"
     ],
     "language": "python",
     "metadata": {},
     "outputs": [
      {
       "output_type": "stream",
       "stream": "stdout",
       "text": [
        "1 loops, best of 3: 3.53 s per loop\n"
       ]
      }
     ],
     "prompt_number": 21
    },
    {
     "cell_type": "code",
     "collapsed": false,
     "input": [],
     "language": "python",
     "metadata": {},
     "outputs": [],
     "prompt_number": 21
    }
   ],
   "metadata": {}
  }
 ]
}