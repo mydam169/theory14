{
 "metadata": {
  "name": "",
  "signature": "sha256:ec348dd5163b5f42a4a8654ad16b06e3e7fe2e42a05b70494e65016262399efc"
 },
 "nbformat": 3,
 "nbformat_minor": 0,
 "worksheets": [
  {
   "cells": [
    {
     "cell_type": "code",
     "collapsed": false,
     "input": [
      "from __future__ import division, print_function\n",
      "import numpy as np\n",
      "import quantecon as qe"
     ],
     "language": "python",
     "metadata": {},
     "outputs": [],
     "prompt_number": 1
    },
    {
     "cell_type": "heading",
     "level": 1,
     "metadata": {},
     "source": [
      "Computing Stationary Distributions"
     ]
    },
    {
     "cell_type": "heading",
     "level": 2,
     "metadata": {},
     "source": [
      "(Scaled) Gaussian Elimination"
     ]
    },
    {
     "cell_type": "code",
     "collapsed": false,
     "input": [
      "def scaled_ge_solve(A):\n",
      "    \"\"\"\n",
      "    Solve x A = 0 for a nonzero (normalized) solution x,\n",
      "    where A is an irreducible matrix with nonnegative off-diagonals\n",
      "    and zero row sums, by (scalled) Gaussian elimination.\n",
      "\n",
      "    \"\"\"\n",
      "    A = np.array(A, dtype=float)  # Make a copy of A\n",
      "    n = A.shape[0]\n",
      "    x = np.zeros(n)\n",
      "\n",
      "    # === Reduction === #\n",
      "    for k in range(n-1):\n",
      "        for i in range(k+1, n):\n",
      "            A[i, k] /= -A[k, k]\n",
      "\n",
      "            for j in range(k+1, n):\n",
      "                A[i, j] += A[i, k] * A[k, j]\n",
      "\n",
      "\n",
      "    # === Backward substitution === #\n",
      "    x[n-1] = 1\n",
      "    for k in range(n-2, -1, -1):\n",
      "        for i in range(k+1, n):\n",
      "            x[k] += x[i] * A[i, k]\n",
      "\n",
      "    # === Normalization === #\n",
      "    x /= np.sum(x)\n",
      "\n",
      "    return x"
     ],
     "language": "python",
     "metadata": {},
     "outputs": [],
     "prompt_number": 2
    },
    {
     "cell_type": "markdown",
     "metadata": {},
     "source": [
      "Let us apply the above to Hamilton's Markov chain:"
     ]
    },
    {
     "cell_type": "code",
     "collapsed": false,
     "input": [
      "P = [[0.971, 0.029, 0    ],\n",
      "     [0.145, 0.778, 0.077],\n",
      "     [0    , 0.508, 0.492]]"
     ],
     "language": "python",
     "metadata": {},
     "outputs": [],
     "prompt_number": 3
    },
    {
     "cell_type": "code",
     "collapsed": false,
     "input": [
      "scaled_ge_solve(P - np.identity(3))"
     ],
     "language": "python",
     "metadata": {},
     "outputs": [
      {
       "metadata": {},
       "output_type": "pyout",
       "prompt_number": 4,
       "text": [
        "array([ 0.8128 ,  0.16256,  0.02464])"
       ]
      }
     ],
     "prompt_number": 4
    },
    {
     "cell_type": "markdown",
     "metadata": {},
     "source": [
      "Check that the output is correct:"
     ]
    },
    {
     "cell_type": "code",
     "collapsed": false,
     "input": [
      "qe.gth_solve(P)"
     ],
     "language": "python",
     "metadata": {},
     "outputs": [
      {
       "metadata": {},
       "output_type": "pyout",
       "prompt_number": 5,
       "text": [
        "array([ 0.8128 ,  0.16256,  0.02464])"
       ]
      }
     ],
     "prompt_number": 5
    },
    {
     "cell_type": "markdown",
     "metadata": {},
     "source": [
      "Consider the matrix\n",
      "\\\\[\n",
      "A =\n",
      "\\begin{pmatrix}\n",
      "- (q + \\varepsilon) & q & \\varepsilon \\\\\n",
      "q & - (q + \\varepsilon) & \\varepsilon \\\\\n",
      "\\varepsilon & \\varepsilon & - 2\\varepsilon\n",
      "\\end{pmatrix},\n",
      "\\\\]\n",
      "where $0 < q < 1$, and $\\varepsilon > 0$ is sufficiently small.\n",
      "\n",
      "Observe that this has a (unique) stationary disribution $(\\frac{1}{3}, \\frac{1}{3}, \\frac{1}{3})$\n",
      "for any values of $q$ and $\\varepsilon$."
     ]
    },
    {
     "cell_type": "markdown",
     "metadata": {},
     "source": [
      "Apply `scaled_ge_solve` to $A$ with $q = 0.5$ and $\\varepsilon = 10^{-8}, \\ldots, 10^{-16}$:"
     ]
    },
    {
     "cell_type": "code",
     "collapsed": false,
     "input": [
      "q = 0.5\n",
      "\n",
      "for i in range(8, 17):\n",
      "    e = 1e-1 ** i\n",
      "    A = [[-(q+e), q     , e   ],\n",
      "         [q     , -(q+e), e   ],\n",
      "         [e     , e     , -2*e]]\n",
      "    print('e = 1e-{0}'.format(i))\n",
      "    print(scaled_ge_solve(A))"
     ],
     "language": "python",
     "metadata": {},
     "outputs": [
      {
       "output_type": "stream",
       "stream": "stdout",
       "text": [
        "e = 1e-8\n",
        "[ 0.33333333  0.33333333  0.33333333]\n",
        "e = 1e-9\n",
        "[ 0.33333334  0.33333334  0.33333333]\n",
        "e = 1e-10\n",
        "[ 0.33333332  0.33333332  0.33333335]\n",
        "e = 1e-11\n",
        "[ 0.33333332  0.33333332  0.33333335]\n",
        "e = 1e-12\n",
        "[ 0.33333579  0.33333579  0.33332842]\n",
        "e = 1e-13\n",
        "[ 0.33329879  0.33329879  0.33340243]\n",
        "e = 1e-14\n",
        "[ 0.33342217  0.33342217  0.33315567]\n",
        "e = 1e-15\n",
        "[ 0.33342217  0.33342217  0.33315567]\n",
        "e = 1e-16\n",
        "[ 0.32152035  0.32152035  0.3569593 ]\n"
       ]
      }
     ],
     "prompt_number": 6
    },
    {
     "cell_type": "markdown",
     "metadata": {},
     "source": [
      "You can see that the output becomes far from $(\\frac{1}{3}, \\frac{1}{3}, \\frac{1}{3})$\n",
      "as $\\varepsilon$ becomes small."
     ]
    },
    {
     "cell_type": "heading",
     "level": 2,
     "metadata": {},
     "source": [
      "GTH Algorithm"
     ]
    },
    {
     "cell_type": "code",
     "collapsed": false,
     "input": [
      "def gth_solve(A):\n",
      "    \"\"\"\n",
      "    Solve x A = 0 for a nonzero (normalized) solution x,\n",
      "    where A is an irreducible matrix with nonnegative off-diagonals\n",
      "    and zero row sums, by the GTH algorithm.\n",
      "\n",
      "    \"\"\"\n",
      "    A = np.array(A, dtype=float)  # Make a copy of A\n",
      "    n = A.shape[0]\n",
      "    x = np.zeros(n)\n",
      "\n",
      "    # === Reduction === #\n",
      "    for k in range(n-1):\n",
      "        scale = np.sum(A[k, k+1:n])\n",
      "        \n",
      "        for i in range(k+1, n):\n",
      "            A[i, k] /= scale\n",
      "\n",
      "            for j in range(k+1, n):\n",
      "                A[i, j] += A[i, k] * A[k, j]\n",
      "\n",
      "\n",
      "    # === Backward substitution === #\n",
      "    x[n-1] = 1\n",
      "    for k in range(n-2, -1, -1):\n",
      "        for i in range(k+1, n):\n",
      "            x[k] += x[i] * A[i, k]\n",
      "\n",
      "    # === Normalization === #\n",
      "    x /= np.sum(x)\n",
      "\n",
      "    return x"
     ],
     "language": "python",
     "metadata": {},
     "outputs": [],
     "prompt_number": 7
    },
    {
     "cell_type": "markdown",
     "metadata": {},
     "source": [
      "Verify that `gth_solve` always returns the correct answer:"
     ]
    },
    {
     "cell_type": "code",
     "collapsed": false,
     "input": [
      "for i in list(range(8, 17)) + [100]:\n",
      "    e = 1e-1 ** i\n",
      "    A = [[-(q+e), q     , e   ],\n",
      "         [q     , -(q+e), e   ],\n",
      "         [e     , e     , -2*e]]\n",
      "    print('e = 1e-{0}'.format(i))\n",
      "    print(gth_solve(A))"
     ],
     "language": "python",
     "metadata": {},
     "outputs": [
      {
       "output_type": "stream",
       "stream": "stdout",
       "text": [
        "e = 1e-8\n",
        "[ 0.33333333  0.33333333  0.33333333]\n",
        "e = 1e-9\n",
        "[ 0.33333333  0.33333333  0.33333333]\n",
        "e = 1e-10\n",
        "[ 0.33333333  0.33333333  0.33333333]\n",
        "e = 1e-11\n",
        "[ 0.33333333  0.33333333  0.33333333]\n",
        "e = 1e-12\n",
        "[ 0.33333333  0.33333333  0.33333333]\n",
        "e = 1e-13\n",
        "[ 0.33333333  0.33333333  0.33333333]\n",
        "e = 1e-14\n",
        "[ 0.33333333  0.33333333  0.33333333]\n",
        "e = 1e-15\n",
        "[ 0.33333333  0.33333333  0.33333333]\n",
        "e = 1e-16\n",
        "[ 0.33333333  0.33333333  0.33333333]\n",
        "e = 1e-100\n",
        "[ 0.33333333  0.33333333  0.33333333]\n"
       ]
      }
     ],
     "prompt_number": 8
    },
    {
     "cell_type": "markdown",
     "metadata": {},
     "source": [
      "For a vectorized version of `gth_solve`,\n",
      "see [gth_solve.py](https://github.com/QuantEcon/QuantEcon.py/blob/493ab6ef8dc2d1debb57456ef99bd4f2e1b73f58/quantecon/gth_solve.py) in `quantecon`."
     ]
    },
    {
     "cell_type": "code",
     "collapsed": false,
     "input": [],
     "language": "python",
     "metadata": {},
     "outputs": [],
     "prompt_number": 8
    }
   ],
   "metadata": {}
  }
 ]
}