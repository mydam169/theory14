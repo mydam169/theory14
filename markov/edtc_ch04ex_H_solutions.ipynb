{
 "metadata": {
  "name": "",
  "signature": "sha256:8eab10cc402b4c73e4fe84b28b6c60f6e5c2a9003afa04743f59245dc7895d81"
 },
 "nbformat": 3,
 "nbformat_minor": 0,
 "worksheets": [
  {
   "cells": [
    {
     "cell_type": "code",
     "collapsed": false,
     "input": [
      "from __future__ import division\n",
      "import numpy as np\n",
      "import quantecon as qe"
     ],
     "language": "python",
     "metadata": {},
     "outputs": [],
     "prompt_number": 1
    },
    {
     "cell_type": "heading",
     "level": 1,
     "metadata": {},
     "source": [
      "Economic Dynamics, Chapter 4: Exercises - Suggested Solutions"
     ]
    },
    {
     "cell_type": "markdown",
     "metadata": {},
     "source": [
      "Exercises using Hamilton's Markov chain:"
     ]
    },
    {
     "cell_type": "code",
     "collapsed": false,
     "input": [
      "P = [[0.971, 0.029, 0    ],\n",
      "     [0.145, 0.778, 0.077],\n",
      "     [0    , 0.508, 0.492]]\n",
      "mc_H = qe.MarkovChain(P)"
     ],
     "language": "python",
     "metadata": {},
     "outputs": [],
     "prompt_number": 2
    },
    {
     "cell_type": "code",
     "collapsed": false,
     "input": [
      "mc_H.P"
     ],
     "language": "python",
     "metadata": {},
     "outputs": [
      {
       "metadata": {},
       "output_type": "pyout",
       "prompt_number": 3,
       "text": [
        "array([[ 0.971,  0.029,  0.   ],\n",
        "       [ 0.145,  0.778,  0.077],\n",
        "       [ 0.   ,  0.508,  0.492]])"
       ]
      }
     ],
     "prompt_number": 3
    },
    {
     "cell_type": "code",
     "collapsed": false,
     "input": [
      "states = {'NG': 0, 'MR': 1, 'SR': 2}"
     ],
     "language": "python",
     "metadata": {},
     "outputs": [],
     "prompt_number": 4
    },
    {
     "cell_type": "heading",
     "level": 2,
     "metadata": {},
     "source": [
      "4.2 Finite State Markov Chains"
     ]
    },
    {
     "cell_type": "heading",
     "level": 3,
     "metadata": {},
     "source": [
      "4.2.2 Marginal Distributions"
     ]
    },
    {
     "cell_type": "heading",
     "level": 4,
     "metadata": {},
     "source": [
      "Exercise 4.2.3"
     ]
    },
    {
     "cell_type": "markdown",
     "metadata": {},
     "source": [
      "Let us use the following function from the previous exercise set:"
     ]
    },
    {
     "cell_type": "code",
     "collapsed": false,
     "input": [
      "def cross_sectional_dist(mc, init, T, num_reps=100):\n",
      "    \"\"\"\n",
      "    Return a distribution of visits at time T across num_reps sample paths\n",
      "    of mc with an initial state init.\n",
      "    \n",
      "    \"\"\"\n",
      "    x = np.empty(num_reps, dtype=int)\n",
      "    for i in range(num_reps):\n",
      "        x[i] = mc.simulate(init=init, sample_size=T+1)[-1]\n",
      "    bins = np.arange(mc.n+1)\n",
      "    hist, bin_edges = np.histogram(x, bins=bins)\n",
      "    dist = hist/len(x)\n",
      "    return dist"
     ],
     "language": "python",
     "metadata": {},
     "outputs": [],
     "prompt_number": 5
    },
    {
     "cell_type": "code",
     "collapsed": false,
     "input": [
      "psi = [0, 0, 1]\n",
      "psi_10 = cross_sectional_dist(mc_H, init=psi, T=10)\n",
      "print psi_10"
     ],
     "language": "python",
     "metadata": {},
     "outputs": [
      {
       "output_type": "stream",
       "stream": "stdout",
       "text": [
        "[ 0.6   0.36  0.04]\n"
       ]
      }
     ],
     "prompt_number": 6
    },
    {
     "cell_type": "code",
     "collapsed": false,
     "input": [
      "psi_10[states['NG']]"
     ],
     "language": "python",
     "metadata": {},
     "outputs": [
      {
       "metadata": {},
       "output_type": "pyout",
       "prompt_number": 7,
       "text": [
        "0.59999999999999998"
       ]
      }
     ],
     "prompt_number": 7
    },
    {
     "cell_type": "heading",
     "level": 3,
     "metadata": {},
     "source": [
      "4.2.3 Other Identities"
     ]
    },
    {
     "cell_type": "heading",
     "level": 4,
     "metadata": {},
     "source": [
      "Exercise 4.2.12"
     ]
    },
    {
     "cell_type": "code",
     "collapsed": false,
     "input": [
      "profits = [1000, 0, -1000]"
     ],
     "language": "python",
     "metadata": {},
     "outputs": [],
     "prompt_number": 8
    },
    {
     "cell_type": "code",
     "collapsed": false,
     "input": [
      "t = 5\n",
      "exp_profits_vec = np.linalg.matrix_power(mc_H.P, t).dot(profits)\n",
      "print exp_profits_vec"
     ],
     "language": "python",
     "metadata": {},
     "outputs": [
      {
       "output_type": "stream",
       "stream": "stdout",
       "text": [
        "[ 885.34763268  388.68267371  217.74304877]\n"
       ]
      }
     ],
     "prompt_number": 9
    },
    {
     "cell_type": "markdown",
     "metadata": {},
     "source": [
      "The expected profit when the economy starts in NG:"
     ]
    },
    {
     "cell_type": "code",
     "collapsed": false,
     "input": [
      "exp_profits_vec[states['NG']]"
     ],
     "language": "python",
     "metadata": {},
     "outputs": [
      {
       "metadata": {},
       "output_type": "pyout",
       "prompt_number": 10,
       "text": [
        "885.34763267632297"
       ]
      }
     ],
     "prompt_number": 10
    },
    {
     "cell_type": "markdown",
     "metadata": {},
     "source": [
      "The change in profits when the economy starts in SR:"
     ]
    },
    {
     "cell_type": "code",
     "collapsed": false,
     "input": [
      "exp_profits_vec[states['SR']] - exp_profits_vec[states['NG']]"
     ],
     "language": "python",
     "metadata": {},
     "outputs": [
      {
       "metadata": {},
       "output_type": "pyout",
       "prompt_number": 11,
       "text": [
        "-667.60458391024304"
       ]
      }
     ],
     "prompt_number": 11
    },
    {
     "cell_type": "heading",
     "level": 4,
     "metadata": {},
     "source": [
      "Exercise 4.2.13"
     ]
    },
    {
     "cell_type": "code",
     "collapsed": false,
     "input": [
      "t = 1000\n",
      "exp_profits_vec_4213 = np.linalg.matrix_power(mc_H.P, t).dot(profits)\n",
      "print exp_profits_vec_4213"
     ],
     "language": "python",
     "metadata": {},
     "outputs": [
      {
       "output_type": "stream",
       "stream": "stdout",
       "text": [
        "[ 788.16  788.16  788.16]\n"
       ]
      }
     ],
     "prompt_number": 12
    },
    {
     "cell_type": "heading",
     "level": 4,
     "metadata": {},
     "source": [
      "Exercise 4.2.14"
     ]
    },
    {
     "cell_type": "code",
     "collapsed": false,
     "input": [
      "psi = np.array([0.2, 0.2, 0.6])\n",
      "t = 5\n",
      "exp_profits = psi.dot(np.linalg.matrix_power(mc_H.P, t)).dot(profits)\n",
      "print exp_profits"
     ],
     "language": "python",
     "metadata": {},
     "outputs": [
      {
       "output_type": "stream",
       "stream": "stdout",
       "text": [
        "385.451890538\n"
       ]
      }
     ],
     "prompt_number": 13
    },
    {
     "cell_type": "heading",
     "level": 3,
     "metadata": {},
     "source": [
      "4.2.4 Constructing Joint Distributions"
     ]
    },
    {
     "cell_type": "heading",
     "level": 4,
     "metadata": {},
     "source": [
      "Exercise 4.2.15"
     ]
    },
    {
     "cell_type": "code",
     "collapsed": false,
     "input": [
      "def path_prob(P, psi, X):\n",
      "    prob = psi[X[0]]\n",
      "    for t in range(len(X)-1):\n",
      "        prob *= P[X[t], X[t+1]]\n",
      "    return prob"
     ],
     "language": "python",
     "metadata": {},
     "outputs": [],
     "prompt_number": 14
    },
    {
     "cell_type": "code",
     "collapsed": false,
     "input": [
      "psi = [0.2, 0.2, 0.6]\n",
      "X = [states['NG'], states['MR'], states['NG']]\n",
      "path_prob(mc_H.P, psi, X)"
     ],
     "language": "python",
     "metadata": {},
     "outputs": [
      {
       "metadata": {},
       "output_type": "pyout",
       "prompt_number": 15,
       "text": [
        "0.00084100000000000006"
       ]
      }
     ],
     "prompt_number": 15
    },
    {
     "cell_type": "heading",
     "level": 4,
     "metadata": {},
     "source": [
      "Exercise 4.2.16"
     ]
    },
    {
     "cell_type": "markdown",
     "metadata": {},
     "source": [
      "A recursion version of the `path_prob` function:"
     ]
    },
    {
     "cell_type": "code",
     "collapsed": false,
     "input": [
      "def path_prob_recursion(P, psi, X):\n",
      "    if len(X) == 1:\n",
      "        return psi[X[0]]\n",
      "\n",
      "    return path_prob_recursion(P, psi, X[:-1]) * P[X[-2], X[-1]]"
     ],
     "language": "python",
     "metadata": {},
     "outputs": [],
     "prompt_number": 16
    },
    {
     "cell_type": "markdown",
     "metadata": {},
     "source": [
      "Note that, given a list `X = [x^0, ..., x^{T-1}, x^T]`,\n",
      "the path `[x^0, ..., x^{T-1}]` can be obtained by `X[:-1]`\n",
      "(or equivalently, `X[0:-1]`)."
     ]
    },
    {
     "cell_type": "code",
     "collapsed": false,
     "input": [
      "path_prob_recursion(mc_H.P, psi, X)"
     ],
     "language": "python",
     "metadata": {},
     "outputs": [
      {
       "metadata": {},
       "output_type": "pyout",
       "prompt_number": 17,
       "text": [
        "0.00084100000000000006"
       ]
      }
     ],
     "prompt_number": 17
    },
    {
     "cell_type": "heading",
     "level": 4,
     "metadata": {},
     "source": [
      "Exercise 4.2.18"
     ]
    },
    {
     "cell_type": "code",
     "collapsed": false,
     "input": [
      "recession_states = [states[s] for s in states.keys() if s not in ['NG']]\n",
      "print recession_states"
     ],
     "language": "python",
     "metadata": {},
     "outputs": [
      {
       "output_type": "stream",
       "stream": "stdout",
       "text": [
        "[2, 1]\n"
       ]
      }
     ],
     "prompt_number": 18
    },
    {
     "cell_type": "markdown",
     "metadata": {},
     "source": [
      "We want to obtain the Cartesian product\n",
      "`recession_states` x `recession_states` x `recession_states`."
     ]
    },
    {
     "cell_type": "markdown",
     "metadata": {},
     "source": [
      "One way is to use\n",
      "[`cartesian`](https://quanteconpy.readthedocs.org/en/latest/tools/cartesian.html)\n",
      "from `quantecon`:"
     ]
    },
    {
     "cell_type": "code",
     "collapsed": false,
     "input": [
      "from quantecon.cartesian import cartesian\n",
      "\n",
      "paths = cartesian([recession_states for t in range(3)])\n",
      "print paths"
     ],
     "language": "python",
     "metadata": {},
     "outputs": [
      {
       "output_type": "stream",
       "stream": "stdout",
       "text": [
        "[[ 2.  2.  2.]\n",
        " [ 2.  2.  1.]\n",
        " [ 2.  1.  2.]\n",
        " [ 2.  1.  1.]\n",
        " [ 1.  2.  2.]\n",
        " [ 1.  2.  1.]\n",
        " [ 1.  1.  2.]\n",
        " [ 1.  1.  1.]]\n"
       ]
      }
     ],
     "prompt_number": 19
    },
    {
     "cell_type": "markdown",
     "metadata": {},
     "source": [
      "(Refer to [this issue](https://github.com/QuantEcon/QuantEcon.py/issues/98).)"
     ]
    },
    {
     "cell_type": "markdown",
     "metadata": {},
     "source": [
      "Another is to use [`product`](https://docs.python.org/2.7/library/itertools.html#itertools.product)\n",
      "from `itertools`:"
     ]
    },
    {
     "cell_type": "code",
     "collapsed": false,
     "input": [
      "from itertools import product\n",
      "\n",
      "paths = product(*[recession_states for t in range(3)])\n",
      "for path in paths:\n",
      "    print path"
     ],
     "language": "python",
     "metadata": {},
     "outputs": [
      {
       "output_type": "stream",
       "stream": "stdout",
       "text": [
        "(2, 2, 2)\n",
        "(2, 2, 1)\n",
        "(2, 1, 2)\n",
        "(2, 1, 1)\n",
        "(1, 2, 2)\n",
        "(1, 2, 1)\n",
        "(1, 1, 2)\n",
        "(1, 1, 1)\n"
       ]
      }
     ],
     "prompt_number": 20
    },
    {
     "cell_type": "code",
     "collapsed": false,
     "input": [
      "paths = cartesian([recession_states for t in range(3)]).astype(int)\n",
      "# paths = product(*[recession_states for t in range(3)])\n",
      "prob = 0\n",
      "for path in paths:\n",
      "    prob += path_prob(mc_H.P, psi, path)\n",
      "\n",
      "print prob"
     ],
     "language": "python",
     "metadata": {},
     "outputs": [
      {
       "output_type": "stream",
       "stream": "stdout",
       "text": [
        "0.704242\n"
       ]
      }
     ],
     "prompt_number": 21
    },
    {
     "cell_type": "heading",
     "level": 4,
     "metadata": {},
     "source": [
      "Exercise 4.2.19"
     ]
    },
    {
     "cell_type": "markdown",
     "metadata": {},
     "source": [
      "Suppose that the path was `[2, 0, 1]`.\n",
      "You can determine whether the path contains state `NG` by the `not in` operator:"
     ]
    },
    {
     "cell_type": "code",
     "collapsed": false,
     "input": [
      "states['NG'] not in path"
     ],
     "language": "python",
     "metadata": {},
     "outputs": [
      {
       "metadata": {},
       "output_type": "pyout",
       "prompt_number": 22,
       "text": [
        "True"
       ]
      }
     ],
     "prompt_number": 22
    },
    {
     "cell_type": "markdown",
     "metadata": {},
     "source": [
      "Count the number of `True`'s out of 10,000 observations:"
     ]
    },
    {
     "cell_type": "code",
     "collapsed": false,
     "input": [
      "sample_size = 3\n",
      "num_obs = 10000\n",
      "is_recession = np.empty(num_obs, dtype=bool)\n",
      "for i in range(num_obs):\n",
      "    path = mc_H.simulate(init=psi, sample_size=sample_size)\n",
      "    is_recession[i] = (states['NG'] not in path)\n",
      "\n",
      "frequency = is_recession.sum()/num_obs\n",
      "print frequency"
     ],
     "language": "python",
     "metadata": {},
     "outputs": [
      {
       "output_type": "stream",
       "stream": "stdout",
       "text": [
        "0.6997\n"
       ]
      }
     ],
     "prompt_number": 23
    },
    {
     "cell_type": "markdown",
     "metadata": {},
     "source": [
      "You may use the `mean` method instead:"
     ]
    },
    {
     "cell_type": "code",
     "collapsed": false,
     "input": [
      "is_recession.mean()"
     ],
     "language": "python",
     "metadata": {},
     "outputs": [
      {
       "metadata": {},
       "output_type": "pyout",
       "prompt_number": 24,
       "text": [
        "0.69969999999999999"
       ]
      }
     ],
     "prompt_number": 24
    },
    {
     "cell_type": "heading",
     "level": 4,
     "metadata": {},
     "source": [
      "Exercise 4.2.20"
     ]
    },
    {
     "cell_type": "markdown",
     "metadata": {},
     "source": [
      "Recall:"
     ]
    },
    {
     "cell_type": "code",
     "collapsed": false,
     "input": [
      "profits"
     ],
     "language": "python",
     "metadata": {},
     "outputs": [
      {
       "metadata": {},
       "output_type": "pyout",
       "prompt_number": 25,
       "text": [
        "[1000, 0, -1000]"
       ]
      }
     ],
     "prompt_number": 25
    },
    {
     "cell_type": "code",
     "collapsed": false,
     "input": [
      "psi"
     ],
     "language": "python",
     "metadata": {},
     "outputs": [
      {
       "metadata": {},
       "output_type": "pyout",
       "prompt_number": 26,
       "text": [
        "[0.2, 0.2, 0.6]"
       ]
      }
     ],
     "prompt_number": 26
    },
    {
     "cell_type": "code",
     "collapsed": false,
     "input": [
      "def discounted_profit(h, r, X):\n",
      "    profit = 0\n",
      "    for t in range(len(X)):\n",
      "        profit += (1/(1+r)**t) * h[X[t]]\n",
      "\n",
      "    return profit"
     ],
     "language": "python",
     "metadata": {},
     "outputs": [],
     "prompt_number": 27
    },
    {
     "cell_type": "code",
     "collapsed": false,
     "input": [
      "T = 2\n",
      "r = 0.05\n",
      "paths = cartesian([states.values() for t in range(T+1)]).astype(int)\n",
      "\n",
      "NPV = 0\n",
      "for path in paths:\n",
      "    NPV += discounted_profit(profits, r, path) * path_prob(mc_H.P, psi, path)\n",
      "\n",
      "print NPV"
     ],
     "language": "python",
     "metadata": {},
     "outputs": [
      {
       "output_type": "stream",
       "stream": "stdout",
       "text": [
        "-396.513741497\n"
       ]
      }
     ],
     "prompt_number": 28
    },
    {
     "cell_type": "heading",
     "level": 4,
     "metadata": {},
     "source": [
      "Exercise 4.2.22"
     ]
    },
    {
     "cell_type": "code",
     "collapsed": false,
     "input": [
      "num_obs = 10000\n",
      "discounted_profit_values = np.empty(num_obs)\n",
      "for i in range(num_obs):\n",
      "    path = mc_H.simulate(init=psi, sample_size=sample_size)\n",
      "    discounted_profit_values[i] = discounted_profit(profits, r, path)\n",
      "\n",
      "avg_profit = discounted_profit_values.sum()/num_obs\n",
      "print avg_profit"
     ],
     "language": "python",
     "metadata": {},
     "outputs": [
      {
       "output_type": "stream",
       "stream": "stdout",
       "text": [
        "-398.400680272\n"
       ]
      }
     ],
     "prompt_number": 29
    },
    {
     "cell_type": "markdown",
     "metadata": {},
     "source": [
      "You may use the `mean` method instead:"
     ]
    },
    {
     "cell_type": "code",
     "collapsed": false,
     "input": [
      "discounted_profit_values.mean()"
     ],
     "language": "python",
     "metadata": {},
     "outputs": [
      {
       "metadata": {},
       "output_type": "pyout",
       "prompt_number": 30,
       "text": [
        "-398.40068027210884"
       ]
      }
     ],
     "prompt_number": 30
    },
    {
     "cell_type": "heading",
     "level": 4,
     "metadata": {},
     "source": [
      "Exercise 4.2.23"
     ]
    },
    {
     "cell_type": "code",
     "collapsed": false,
     "input": [
      "def NPV_matrix_power(P, psi, h, r, T):\n",
      "    psi = np.asarray(psi)  # To use the method dot from NumPy\n",
      "\n",
      "    NPV = 0\n",
      "    values = np.empty(T+1)\n",
      "    for t in range(T+1):\n",
      "        values[t] = \\\n",
      "            (1/(1+r)**t) * psi.dot(np.linalg.matrix_power(P, t)).dot(h)\n",
      "\n",
      "    return values.sum()"
     ],
     "language": "python",
     "metadata": {},
     "outputs": [],
     "prompt_number": 31
    },
    {
     "cell_type": "code",
     "collapsed": false,
     "input": [
      "NPV_matrix_power(mc_H.P, psi, profits, r, T)"
     ],
     "language": "python",
     "metadata": {},
     "outputs": [
      {
       "metadata": {},
       "output_type": "pyout",
       "prompt_number": 32,
       "text": [
        "-396.51374149659864"
       ]
      }
     ],
     "prompt_number": 32
    },
    {
     "cell_type": "markdown",
     "metadata": {},
     "source": [
      "Another implementation starategy is to use recursion:"
     ]
    },
    {
     "cell_type": "code",
     "collapsed": false,
     "input": [
      "def NPV_recursion(P, psi, h, r, T):\n",
      "    if T == 0:\n",
      "        return np.dot(psi, h)\n",
      "    NPV = np.dot(psi, h) + \\\n",
      "        (1/(1+r)) * NPV_recursion(P, np.dot(psi, P), h, r, T-1)\n",
      "    return NPV"
     ],
     "language": "python",
     "metadata": {},
     "outputs": [],
     "prompt_number": 33
    },
    {
     "cell_type": "code",
     "collapsed": false,
     "input": [
      "NPV_recursion(mc_H.P, psi, profits, r, T)"
     ],
     "language": "python",
     "metadata": {},
     "outputs": [
      {
       "metadata": {},
       "output_type": "pyout",
       "prompt_number": 34,
       "text": [
        "-396.51374149659858"
       ]
      }
     ],
     "prompt_number": 34
    },
    {
     "cell_type": "markdown",
     "metadata": {},
     "source": [
      "Plot NPVs against T:"
     ]
    },
    {
     "cell_type": "code",
     "collapsed": false,
     "input": [
      "%matplotlib inline\n",
      "import matplotlib.pyplot as plt"
     ],
     "language": "python",
     "metadata": {},
     "outputs": [],
     "prompt_number": 35
    },
    {
     "cell_type": "code",
     "collapsed": false,
     "input": [
      "ts = 7\n",
      "NPV_values = np.empty(ts)\n",
      "for t in range(ts):\n",
      "    NPV_values[t] = NPV_recursion(mc_H.P, psi, profits, r, t)"
     ],
     "language": "python",
     "metadata": {},
     "outputs": [],
     "prompt_number": 36
    },
    {
     "cell_type": "code",
     "collapsed": false,
     "input": [
      "fig, ax = plt.subplots()\n",
      "ax.plot(NPV_values)\n",
      "ax.set_xlabel(r'$T$')\n",
      "ax.set_ylabel('NPV')\n",
      "ax.axhline(color='k', linewidth=0.5)\n",
      "ax.grid(True)\n",
      "plt.show()"
     ],
     "language": "python",
     "metadata": {},
     "outputs": [
      {
       "metadata": {},
       "output_type": "display_data",
       "png": "[encoded data removed]",
       "text": [
        "<matplotlib.figure.Figure at 0x10f259d50>"
       ]
      }
     ],
     "prompt_number": 37
    },
    {
     "cell_type": "heading",
     "level": 2,
     "metadata": {},
     "source": [
      "4.3 Stability of Finite State MCs"
     ]
    },
    {
     "cell_type": "heading",
     "level": 3,
     "metadata": {},
     "source": [
      "4.3.1 Stationary Distributions"
     ]
    },
    {
     "cell_type": "heading",
     "level": 4,
     "metadata": {},
     "source": [
      "Exercise 4.3.9"
     ]
    },
    {
     "cell_type": "code",
     "collapsed": false,
     "input": [
      "mc_H.num_recurrent_classes"
     ],
     "language": "python",
     "metadata": {},
     "outputs": [
      {
       "metadata": {},
       "output_type": "pyout",
       "prompt_number": 38,
       "text": [
        "1"
       ]
      }
     ],
     "prompt_number": 38
    },
    {
     "cell_type": "markdown",
     "metadata": {},
     "source": [
      "`mc_H` has only one recurrent class, and hence has only one stationary distribution."
     ]
    },
    {
     "cell_type": "code",
     "collapsed": false,
     "input": [
      "psi_star = mc_H.stationary_distributions[0]"
     ],
     "language": "python",
     "metadata": {},
     "outputs": [],
     "prompt_number": 39
    },
    {
     "cell_type": "code",
     "collapsed": false,
     "input": [
      "print psi_star"
     ],
     "language": "python",
     "metadata": {},
     "outputs": [
      {
       "output_type": "stream",
       "stream": "stdout",
       "text": [
        "[ 0.8128   0.16256  0.02464]\n"
       ]
      }
     ],
     "prompt_number": 40
    },
    {
     "cell_type": "code",
     "collapsed": false,
     "input": [
      "extected_profit_stationary = psi_star.dot(profits)\n",
      "print extected_profit_stationary"
     ],
     "language": "python",
     "metadata": {},
     "outputs": [
      {
       "output_type": "stream",
       "stream": "stdout",
       "text": [
        "788.16\n"
       ]
      }
     ],
     "prompt_number": 41
    },
    {
     "cell_type": "markdown",
     "metadata": {},
     "source": [
      "Recall from Exercise 4.2.13:"
     ]
    },
    {
     "cell_type": "code",
     "collapsed": false,
     "input": [
      "print exp_profits_vec_4213"
     ],
     "language": "python",
     "metadata": {},
     "outputs": [
      {
       "output_type": "stream",
       "stream": "stdout",
       "text": [
        "[ 788.16  788.16  788.16]\n"
       ]
      }
     ],
     "prompt_number": 42
    },
    {
     "cell_type": "heading",
     "level": 4,
     "metadata": {},
     "source": [
      "Exercise 4.3.10"
     ]
    },
    {
     "cell_type": "code",
     "collapsed": false,
     "input": [
      "mc_H.is_aperiodic"
     ],
     "language": "python",
     "metadata": {},
     "outputs": [
      {
       "metadata": {},
       "output_type": "pyout",
       "prompt_number": 43,
       "text": [
        "True"
       ]
      }
     ],
     "prompt_number": 43
    },
    {
     "cell_type": "markdown",
     "metadata": {},
     "source": [
      "`mc_H` is aperiodic, so that the marginal distribution converges to a stationary distribution,\n",
      "which is unique."
     ]
    },
    {
     "cell_type": "code",
     "collapsed": false,
     "input": [
      "psi_20 = cross_sectional_dist(mc_H, init=psi_star, T=20, num_reps=1000)\n",
      "print psi_20"
     ],
     "language": "python",
     "metadata": {},
     "outputs": [
      {
       "output_type": "stream",
       "stream": "stdout",
       "text": [
        "[ 0.817  0.159  0.024]\n"
       ]
      }
     ],
     "prompt_number": 44
    },
    {
     "cell_type": "heading",
     "level": 3,
     "metadata": {},
     "source": [
      "4.3.3 Stability"
     ]
    },
    {
     "cell_type": "heading",
     "level": 4,
     "metadata": {},
     "source": [
      "Exercise 4.3.27"
     ]
    },
    {
     "cell_type": "code",
     "collapsed": false,
     "input": [
      "def sample_return_time(mc, state):\n",
      "    t = 0\n",
      "    x = state\n",
      "\n",
      "    while True:\n",
      "        t += 1\n",
      "        x = mc.simulate(init=x, sample_size=2)[-1]\n",
      "        if x == state:\n",
      "            break\n",
      "\n",
      "    return t"
     ],
     "language": "python",
     "metadata": {},
     "outputs": [],
     "prompt_number": 45
    },
    {
     "cell_type": "markdown",
     "metadata": {},
     "source": [
      "Or, alternatively:"
     ]
    },
    {
     "cell_type": "code",
     "collapsed": false,
     "input": [
      "def sample_return_time2(mc, state):\n",
      "    t = 1\n",
      "    x = mc.simulate(init=state, sample_size=2)[-1]\n",
      "\n",
      "    while (x != state):\n",
      "        t += 1\n",
      "        x = mc.simulate(init=x, sample_size=2)[-1]\n",
      "\n",
      "    return t"
     ],
     "language": "python",
     "metadata": {},
     "outputs": [],
     "prompt_number": 46
    },
    {
     "cell_type": "code",
     "collapsed": false,
     "input": [
      "def simulated_mean_return_time(mc, state, num_reps):\n",
      "    return_times = np.empty(num_reps)\n",
      "\n",
      "    for i in range(num_reps):\n",
      "        return_times[i] = sample_return_time(mc, state)\n",
      "\n",
      "    return return_times.mean()     "
     ],
     "language": "python",
     "metadata": {},
     "outputs": [],
     "prompt_number": 47
    },
    {
     "cell_type": "code",
     "collapsed": false,
     "input": [
      "mc_H.is_irreducible"
     ],
     "language": "python",
     "metadata": {},
     "outputs": [
      {
       "metadata": {},
       "output_type": "pyout",
       "prompt_number": 48,
       "text": [
        "True"
       ]
      }
     ],
     "prompt_number": 48
    },
    {
     "cell_type": "markdown",
     "metadata": {},
     "source": [
      "`mc_H` is irreducible, so that every state is recurrent, and therefore for any initial state, the chain returns to it in finite time with probability one."
     ]
    },
    {
     "cell_type": "code",
     "collapsed": false,
     "input": [
      "nums = [10**i for i in range(1, 5)]\n",
      "\n",
      "mean_return_time_vec = np.empty(mc_H.n)\n",
      "\n",
      "for num_reps in nums:\n",
      "    for state in range(mc_H.n):\n",
      "        mean_return_time_vec[state] = \\\n",
      "            simulated_mean_return_time(mc_H, state, num_reps)\n",
      "    print 'num_reps = {0}:'.format(num_reps)\n",
      "    print '  mean return times = {0}'.format(mean_return_time_vec)"
     ],
     "language": "python",
     "metadata": {},
     "outputs": [
      {
       "output_type": "stream",
       "stream": "stdout",
       "text": [
        "num_reps = 10:\n",
        "  mean return times = [  1.    3.3  21.2]\n",
        "num_reps = 100:"
       ]
      },
      {
       "output_type": "stream",
       "stream": "stdout",
       "text": [
        "\n",
        "  mean return times = [  1.12   5.83  41.18]\n",
        "num_reps = 1000:"
       ]
      },
      {
       "output_type": "stream",
       "stream": "stdout",
       "text": [
        "\n",
        "  mean return times = [  1.251   6.214  41.918]\n",
        "num_reps = 10000:"
       ]
      },
      {
       "output_type": "stream",
       "stream": "stdout",
       "text": [
        "\n",
        "  mean return times = [  1.2087   6.3024  40.0356]\n"
       ]
      }
     ],
     "prompt_number": 49
    },
    {
     "cell_type": "markdown",
     "metadata": {},
     "source": [
      "Compare:"
     ]
    },
    {
     "cell_type": "code",
     "collapsed": false,
     "input": [
      "psi_star ** (-1)"
     ],
     "language": "python",
     "metadata": {},
     "outputs": [
      {
       "metadata": {},
       "output_type": "pyout",
       "prompt_number": 50,
       "text": [
        "array([  1.23031496,   6.1515748 ,  40.58441558])"
       ]
      }
     ],
     "prompt_number": 50
    },
    {
     "cell_type": "heading",
     "level": 3,
     "metadata": {},
     "source": [
      "4.3.4 The Law of Large Numbers"
     ]
    },
    {
     "cell_type": "heading",
     "level": 4,
     "metadata": {},
     "source": [
      "Exercise 4.3.34"
     ]
    },
    {
     "cell_type": "code",
     "collapsed": false,
     "input": [
      "h = np.zeros(mc_H.n)\n",
      "h[states['NG']] = 1\n",
      "print h"
     ],
     "language": "python",
     "metadata": {},
     "outputs": [
      {
       "output_type": "stream",
       "stream": "stdout",
       "text": [
        "[ 1.  0.  0.]\n"
       ]
      }
     ],
     "prompt_number": 51
    },
    {
     "cell_type": "code",
     "collapsed": false,
     "input": [
      "def h_mean(mc, init, h, sample_size):\n",
      "    path = mc.simulate(init=init, sample_size=sample_size)\n",
      "\n",
      "    h_sum = 0\n",
      "    for t in range(sample_size):\n",
      "        h_sum += h[path[t]]\n",
      "\n",
      "    return h_sum/sample_size"
     ],
     "language": "python",
     "metadata": {},
     "outputs": [],
     "prompt_number": 52
    },
    {
     "cell_type": "code",
     "collapsed": false,
     "input": [
      "sample_size = 50000\n",
      "init = 0\n",
      "\n",
      "h_mean(mc_H, init=init, h=h, sample_size=sample_size)"
     ],
     "language": "python",
     "metadata": {},
     "outputs": [
      {
       "metadata": {},
       "output_type": "pyout",
       "prompt_number": 53,
       "text": [
        "0.81457999999999997"
       ]
      }
     ],
     "prompt_number": 53
    },
    {
     "cell_type": "code",
     "collapsed": false,
     "input": [
      "psi_star.dot(h)"
     ],
     "language": "python",
     "metadata": {},
     "outputs": [
      {
       "metadata": {},
       "output_type": "pyout",
       "prompt_number": 54,
       "text": [
        "0.81279999999999997"
       ]
      }
     ],
     "prompt_number": 54
    },
    {
     "cell_type": "heading",
     "level": 4,
     "metadata": {},
     "source": [
      "Exercise 4.3.36"
     ]
    },
    {
     "cell_type": "markdown",
     "metadata": {},
     "source": [
      "Recall:"
     ]
    },
    {
     "cell_type": "code",
     "collapsed": false,
     "input": [
      "profits"
     ],
     "language": "python",
     "metadata": {},
     "outputs": [
      {
       "metadata": {},
       "output_type": "pyout",
       "prompt_number": 55,
       "text": [
        "[1000, 0, -1000]"
       ]
      }
     ],
     "prompt_number": 55
    },
    {
     "cell_type": "code",
     "collapsed": false,
     "input": [
      "h_mean(mc_H, init=init, h=profits, sample_size=sample_size)"
     ],
     "language": "python",
     "metadata": {},
     "outputs": [
      {
       "metadata": {},
       "output_type": "pyout",
       "prompt_number": 56,
       "text": [
        "776.68"
       ]
      }
     ],
     "prompt_number": 56
    },
    {
     "cell_type": "markdown",
     "metadata": {},
     "source": [
      "Recall from Exercise 4.3.9:"
     ]
    },
    {
     "cell_type": "code",
     "collapsed": false,
     "input": [
      "extected_profit_stationary"
     ],
     "language": "python",
     "metadata": {},
     "outputs": [
      {
       "metadata": {},
       "output_type": "pyout",
       "prompt_number": 57,
       "text": [
        "788.15999999999997"
       ]
      }
     ],
     "prompt_number": 57
    },
    {
     "cell_type": "code",
     "collapsed": false,
     "input": [],
     "language": "python",
     "metadata": {},
     "outputs": [],
     "prompt_number": 57
    }
   ],
   "metadata": {}
  }
 ]
}